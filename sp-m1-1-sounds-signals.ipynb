{
 "cells": [
  {
   "cell_type": "markdown",
   "metadata": {},
   "source": [
    "## _Speech Processing 2020_"
   ]
  },
  {
   "cell_type": "markdown",
   "metadata": {},
   "source": [
    "\n",
    "# 1 Sounds and Signals\n",
    "\n",
    "### Learning Objectives: \n",
    "\n",
    "\n",
    "* Identify a periodic signals from a time vs amplitude (time domain) plot\n",
    "* Identify vocal pulses in a time vs amplitude graph, and how this relates to the concepts of period and frequency.\n",
    "* Identify differences in speech sounds based on a spectrogram\n",
    "\n",
    "### Need to know: \n",
    "* How to open and view a recording in praat\n",
    "* How to identify the pitch and spectrum plots in praat\n",
    "* How to create a spectral slice in praat"
   ]
  },
  {
   "cell_type": "markdown",
   "metadata": {},
   "source": [
    "# 1.1 The Time Domain"
   ]
  },
  {
   "cell_type": "markdown",
   "metadata": {},
   "source": [
    "## 1.1.1 Visualizing speech in the time domain\n",
    "\n",
    "### Exercises\n",
    "\n",
    "* Record the following sentences in praat: \n",
    "    * 'Say writer for me'\n",
    "    * 'Say rider for me' \n",
    "\n",
    "* Q: From the time vs amplitude graph, what differences are there between: **[frication]**\n",
    "    * the 's' and the 'a' in 'say'\n",
    "    * the 's' in say and the 'f' in 'for'\n",
    "   \n",
    "* Q: What's the difference between rider and writer? \n",
    "    * Are there differences in your group in how you pronounce the following? Can you see evidence from this from the speech wave?  \n",
    "        * /t/ vs /d/ **[voicing]**\n",
    "        * /r/ \n",
    "        * /ai/ "
   ]
  },
  {
   "cell_type": "markdown",
   "metadata": {},
   "source": [
    "### Notes"
   ]
  },
  {
   "cell_type": "markdown",
   "metadata": {},
   "source": [
    "_Double click here to add your notes_"
   ]
  },
  {
   "cell_type": "markdown",
   "metadata": {},
   "source": [
    "## 1.1.2  Periodicity and Pitch\n",
    "* Listen to some recordings from different instruments: **[periodic signal]**\n",
    "    * [Violin](sounds/violin_A4_05_forte_arco-normal.mp3)\n",
    "    * [Oboe](sounds/oboe_A4_15_forte_normal.mp3)\n",
    "    * [Flute](sounds/flute_A4_15_forte_normal.mp3)\n",
    "    * [Bass drum](sounds/bass-drum__025_forte_bass-drum-mallet.mp3)\n",
    "\n",
    "* Measure some pitch periods manually **[fundamental period, Hz]**\n",
    "    * Do all of the instruments recordings have the same fundamental frequency? \n",
    "    \n",
    "* Look at the violin at different registers: \n",
    "    * measure the pitch using praat \n",
    "    * What's the difference in Hz\n",
    "    * What's the difference in semitones? **[pitch perception]**\n",
    "\n",
    "* Can you record your own vowel with the same pitch \n",
    "    * Is it exactly the same pitch? \n",
    "\n",
    "* Extra: Turn on the spectrogram view in praat.  What sort of differences are there between instruments? \n",
    "    * Timbre: same pitch different sound\n",
    "  "
   ]
  },
  {
   "cell_type": "markdown",
   "metadata": {},
   "source": [
    "### Notes"
   ]
  },
  {
   "cell_type": "code",
   "execution_count": null,
   "metadata": {},
   "outputs": [],
   "source": []
  },
  {
   "cell_type": "markdown",
   "metadata": {},
   "source": [
    "# 1.2 The Frequency Domain"
   ]
  },
  {
   "cell_type": "markdown",
   "metadata": {},
   "source": [
    "## 1.2.1  Examine the spectrum of a square wave\n",
    "\n",
    "**[magnitude spectrum] [decibels]**\n",
    "* Load one of the square waves into praat, select a section from the middle of the waveform about 1 second in length, and generate a spectral slice of this portion.\n",
    "    * You should see a spectrum showing the component frequencies for the waveform. Try playing individual peaks or groups of peaks. Compare the pitch and timbre of your selections.\n",
    "    \n",
    "* Try the same thing, playing back just a range of frequencies, but this time use the sine or square waveforms:\n",
    "    * can you create a sound like a square wave, starting from a sine wave?\n",
    "    * can you create a sound like a sine wave, starting from a square wave?"
   ]
  },
  {
   "cell_type": "markdown",
   "metadata": {},
   "source": [
    "### Notes"
   ]
  },
  {
   "cell_type": "code",
   "execution_count": null,
   "metadata": {},
   "outputs": [],
   "source": []
  },
  {
   "cell_type": "markdown",
   "metadata": {},
   "source": [
    "## 1.2.2  Filter by frequency\n",
    "* Load the file sweep.wav.\n",
    "* Examine spectral slices at different points in the file.\n",
    "* In the praat objects window select the sound sweep object and click on the filter button and select filter one formant. In the box that opens, set a frequency of 2500Hz and a bandwidth of 300Hz, and click OK.\n",
    "* You should now have a new object in the list called Sound sweep_filt. Compare the waveform and spectrum of this object to the original object.\n",
    "* Try the above filtering process on the speech waveform, with filter frequencies in the typical range of speech formants, using narrow bandwidths of about 50Hz.\n"
   ]
  },
  {
   "cell_type": "markdown",
   "metadata": {},
   "source": [
    "### Notes"
   ]
  },
  {
   "cell_type": "code",
   "execution_count": null,
   "metadata": {},
   "outputs": [],
   "source": []
  },
  {
   "cell_type": "markdown",
   "metadata": {},
   "source": [
    "## 1.2.3 Time vs Frequency Tradeoff\n",
    "* Look at/listen to sentences you recorded again in praat \n",
    "* Identify the part of the recording where a speaker says the \"i\" in writer: this is actually a diphthong /ai/ **[formants][waveform sample][harmonics][spectral envelope]**\n",
    "    * What happens to the spectral slice if you select everything between the surrounding consonants? \n",
    "    * What happens if you only select the first half? The second half? \n",
    "    * Compare this to /a/ and /i/ separately? Can you now characterize what a diphthong is? \n",
    "    * What happens if you include the surrounding consonants? \n",
    "    \n",
    "Note: What you see on the spectogram view of praat is based on a **frame window** size of 5ms. \n",
    "* Q: What happens when you change this? \n",
    "\n",
    "The point is that the size of the **analysis window** changes things! The longer the window, the more 'blurry' the frequency representation. \n",
    "\n"
   ]
  },
  {
   "cell_type": "markdown",
   "metadata": {},
   "source": [
    "### Notes"
   ]
  },
  {
   "cell_type": "code",
   "execution_count": null,
   "metadata": {},
   "outputs": [],
   "source": []
  },
  {
   "cell_type": "markdown",
   "metadata": {},
   "source": [
    "# 1.3 Extras: Seeing the environment in a sound\n",
    "http://www.speech.zone/exercises/familiarisation/extras/\n",
    "\n",
    "* Recording conditions: \n",
    "     * record close to the microphone, or far away (try it in a reverberant space, such as the bathroom!) – what changes? why?\n",
    "* Analyse some of the synthetic speech signals in this zip file\n",
    "    * what are the differences between them? use different tools (your ears, the waveform, the spectrogram)\n",
    "    * in what ways are they similar or different to natural speech?\n",
    "    * could you tell they are synthetic just by looking at the spectrogram?"
   ]
  },
  {
   "cell_type": "markdown",
   "metadata": {},
   "source": [
    "### Notes"
   ]
  },
  {
   "cell_type": "code",
   "execution_count": null,
   "metadata": {},
   "outputs": [],
   "source": []
  },
  {
   "cell_type": "code",
   "execution_count": null,
   "metadata": {},
   "outputs": [],
   "source": []
  }
 ],
 "metadata": {
  "kernelspec": {
   "display_name": "Python 3",
   "language": "python",
   "name": "python3"
  },
  "language_info": {
   "codemirror_mode": {
    "name": "ipython",
    "version": 3
   },
   "file_extension": ".py",
   "mimetype": "text/x-python",
   "name": "python",
   "nbconvert_exporter": "python",
   "pygments_lexer": "ipython3",
   "version": "3.7.6"
  }
 },
 "nbformat": 4,
 "nbformat_minor": 2
}
