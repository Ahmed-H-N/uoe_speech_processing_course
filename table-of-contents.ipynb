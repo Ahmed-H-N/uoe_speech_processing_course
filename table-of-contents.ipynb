{
 "cells": [
  {
   "cell_type": "markdown",
   "metadata": {},
   "source": [
    "#### _Speech Processing Labs 2020_"
   ]
  },
  {
   "cell_type": "markdown",
   "metadata": {},
   "source": [
    "# Table of Contents\n",
    "\n",
    "\n",
    "## 0 Getting Started\n",
    "\n",
    "\n",
    "* [Matt's Guide for virtual machine etc]\n",
    "* [How to use these notebooks](./signals/sp-m0-how-to-start.ipynb): Get set up with Jupyter Notebooks\n",
    "* [Get Praat!](phon/phon-0-getPraat): Learn how to install and use the phonetic analysis tool Praat.\n",
    "\n",
    "\n",
    "## 1 Phonetics/Phonology\n",
    "\n",
    "### 1.1 Articulatory Phonetics\n",
    "\n",
    "### 1.2 Acoustic Phonetics\n",
    "\n",
    "### 1.3 Phonemes and Allophones\n",
    "\n",
    "###  1.4 Phonology\n",
    "\n",
    "## 2 Signals\n",
    "\n",
    "### 2.1 Analyzing Sounds in Time and Frequency\n",
    " \n",
    "* [Sounds and Signals (praat)](./signals/sp-m1-1-sounds-signals.ipynb)\n",
    "* [Digital Signals: Complex numbers and sinusoids](./signals/sp-m1-2-digital-signals-complex-numbers.ipynb)\n",
    "* [Digital Signals: Sampling sinusoids](./signals/sp-m1-3-sampling-sinusoids.ipynb) \n",
    "* [The Discrete Fourier Transform](./signals/sp-m1-4-discrete-fourier-transform.ipynb)\n",
    "* [Interpreting the DFT](./signals/sp-m1-5-interpreting-the-dft.ipynb)\n",
    "\n",
    "\n",
    "### 2.2 Source and Filter\n",
    "* [Building the source: Impulse trains](signals/sp-m2-1-impulse-as-source.ipynb)\n",
    "* [Filtering the Source: Finite Impulse Response Filters](signals/sp-m2-2-fir-filters.ipynb)\n",
    "* [Impulse source, IIR filter](signals/sp-m2-3-iir-filters.ipynb)\n",
    "\n",
    "\n",
    "\n",
    "## 3 Text-To-Speech\n",
    "\n",
    "### 3.1 Text processing\n",
    "\n",
    "### 3.2 Decision Trees\n",
    "\n",
    "### 3.3 Waveform Generation\n",
    "\n",
    "\n",
    "## 4 Automatic Speech Recognition\n",
    "\n",
    "### 4.1 Pattern Matching\n",
    "\n",
    "### 4.2 Feature Engineering\n",
    "\n",
    "### 4.3 Hidden Markov Model\n",
    "\n",
    "### 4.4 Connected Speech\n",
    "\n",
    "\n",
    "## 5 Skills\n",
    "\n",
    "### 5.1 More Maths\n",
    "\n",
    "###  5.2 Shell Scripting\n",
    "\n",
    "###  5.3 Scientific Writing"
   ]
  },
  {
   "cell_type": "code",
   "execution_count": null,
   "metadata": {},
   "outputs": [],
   "source": []
  }
 ],
 "metadata": {
  "kernelspec": {
   "display_name": "Python 3",
   "language": "python",
   "name": "python3"
  },
  "language_info": {
   "codemirror_mode": {
    "name": "ipython",
    "version": 3
   },
   "file_extension": ".py",
   "mimetype": "text/x-python",
   "name": "python",
   "nbconvert_exporter": "python",
   "pygments_lexer": "ipython3",
   "version": "3.7.6"
  }
 },
 "nbformat": 4,
 "nbformat_minor": 4
}
