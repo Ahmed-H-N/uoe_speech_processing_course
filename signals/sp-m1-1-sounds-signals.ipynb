{
 "cells": [
  {
   "cell_type": "markdown",
   "metadata": {},
   "source": [
    "#### _Speech Processing Labs 2020: Signals: Module 1_"
   ]
  },
  {
   "cell_type": "markdown",
   "metadata": {},
   "source": [
    "\n",
    "# 1 Sounds and Signals\n",
    "\n",
    "### Learning Objectives: \n",
    "* Identify a periodic signals from a time vs amplitude (time domain) plot\n",
    "* Identify vocal pulses in a time vs amplitude graph, and how this relates to the concepts of period and frequency.\n",
    "* Identify differences in speech sounds based on a spectrogram\n",
    "\n",
    "### Need to know: \n",
    "* Topic Videos: Time domain, Sound source, Periodic signal, Pitch\n",
    "* [How to use Praat](../phon/phon-0-getPraat.ipynb)\n",
    "    * How to open and view a recording,  pitch and spectrum plots and create spectral slices\n"
   ]
  },
  {
   "cell_type": "markdown",
   "metadata": {},
   "source": [
    "##  1.1 Visualizing speech in the time domain\n",
    "\n",
    "### Exercises\n",
    "\n",
    "* Record the following sentences in praat: \n",
    "    * 'Say writer for me'\n",
    "    * 'Say rider for me' \n",
    "\n",
    "* From the time vs amplitude graph, what differences are there between:\n",
    "    * the 's' and the 'a' in 'say'\n",
    "    * the 's' in say and the 'f' in 'for'\n",
    "   \n",
    "* What's the difference between rider and writer? \n",
    "    * Are there differences in your group in how you pronounce the following? Can you see evidence from this from the speech wave?  \n",
    "        * /t/ vs /d/ \n",
    "        * /r/ \n",
    "        * /ai/ "
   ]
  },
  {
   "cell_type": "markdown",
   "metadata": {},
   "source": [
    "### Notes"
   ]
  },
  {
   "cell_type": "code",
   "execution_count": 1,
   "metadata": {},
   "outputs": [],
   "source": [
    "#### Add your notes here. Press Esc-m to change this code cell to a markdown cell (or select Markdown in the menu at the top)"
   ]
  },
  {
   "cell_type": "markdown",
   "metadata": {},
   "source": [
    "##  1.2 Periodicity and Pitch\n",
    "* Listen to some recordings from different instruments: \n",
    "    * [Violin](https://laic.github.io/uoe_speech_processing_course/sounds/violin_A4_05_forte_arco-normal.mp3)\n",
    " \n",
    " <audio controls\n",
    "src=\"sounds/violin_A4_05_forte_arco-normal.mp3\">  \n",
    " Your browser does not support the audio element \n",
    "</audio>\n",
    "\n",
    "    * [Oboe](sounds/oboe_A4_15_forte_normal.mp3)\n",
    "    \n",
    " <audio controls\n",
    "src=\"sounds/oboe_A4_15_forte_normal.mp3\">  \n",
    " Your browser does not support the audio element \n",
    "</audio>\n",
    "\n",
    "    * [Flute](sounds/flute_A4_15_forte_normal.mp3)\n",
    "    \n",
    " <audio controls\n",
    "src=\"sounds/flute_A4_15_forte_normal.mp3\">  \n",
    " Your browser does not support the audio element \n",
    "</audio>\n",
    "\n",
    "    * [Bass drum](sounds/bass-drum__025_forte_bass-drum-mallet.mp3)\n",
    "    \n",
    " <audio controls\n",
    "src=\"sounds/bass-drum__025_forte_bass-drum-mallet.mp3\">  \n",
    " Your browser does not support the audio element \n",
    "</audio>\n",
    "\n",
    "\n",
    "* Measure some pitch periods manually \n",
    "    * Do all of the instruments recordings have the same fundamental frequency? \n",
    "    \n",
    "* Look at the violin at different registers: \n",
    "    * Measure the pitch using praat \n",
    "    * What's the difference in Hz\n",
    "    * What's the difference in semitones? \n",
    "\n",
    "* Can you record your own vowel with the same pitch \n",
    "    * Is it exactly the same pitch? \n",
    "\n",
    "* Extra: Turn on the spectrogram view in praat.  What sort of differences are there between instruments? \n",
    "    * Timbre: same pitch different sound\n",
    "  "
   ]
  },
  {
   "cell_type": "markdown",
   "metadata": {},
   "source": [
    "### Notes"
   ]
  },
  {
   "cell_type": "code",
   "execution_count": null,
   "metadata": {},
   "outputs": [],
   "source": []
  },
  {
   "cell_type": "markdown",
   "metadata": {},
   "source": [
    "##  1.3 Examine the spectrum of a square wave\n",
    "\n",
    "\n",
    "* Load one of the square waves into praat, select a section from the middle of the waveform about 1 second in length, and generate a spectral slice of this portion: [square_100Hz.wav](sounds/square_100Hz.wav), [square_200Hz.wav](sounds/square_200Hz.wav), [square_300Hz.wav](sounds/square_300Hz.wav)\n",
    "    * You should see a spectrum showing the component frequencies for the waveform. Try playing individual peaks or groups of peaks. Compare the pitch and timbre of your selections.\n",
    "    \n",
    "* Try the same thing, playing back just a range of frequencies, but this time use the sine or square waveforms: [sine_100Hz.wav](sounds/sine_100Hz.wav), [sine_200Hz.wav](sounds/sine_200Hz.wav), [sine_300Hz.wav](sounds/sine_300Hz.wav)\n",
    "    * Can you create a sound like a square wave, starting from a sine wave?\n",
    "    * Can you create a sound like a sine wave, starting from a square wave?"
   ]
  },
  {
   "cell_type": "markdown",
   "metadata": {},
   "source": [
    "### Notes"
   ]
  },
  {
   "cell_type": "code",
   "execution_count": null,
   "metadata": {},
   "outputs": [],
   "source": []
  },
  {
   "cell_type": "markdown",
   "metadata": {},
   "source": [
    "##  1.3 Filter by frequency\n",
    "* Load the file [sweep.wav](sounds/sweep.wav) and examine spectral slices at different points in the file.\n",
    "    * How is a spectral slice from the beginning of the file different from one at the end? \n",
    "* In the praat objects window select the sound sweep object and click on the filter button and select filter one formant. In the box that opens, set a frequency of 2500Hz and a bandwidth of 300Hz, and click OK. You should now have a new object in the list called Sound sweep_filt. \n",
    "    * How is the waveform and spectrum of this filtered object different the original sound? \n",
    "* Try the above filtering process on a speech waveform, with filter frequencies in the typical range of speech formants, using narrow bandwidths of about 50Hz.\n",
    "    * You can use the recording you made previously\n"
   ]
  },
  {
   "cell_type": "markdown",
   "metadata": {},
   "source": [
    "### Notes"
   ]
  },
  {
   "cell_type": "code",
   "execution_count": null,
   "metadata": {},
   "outputs": [],
   "source": []
  },
  {
   "cell_type": "markdown",
   "metadata": {},
   "source": [
    "##  1.4 Time vs Frequency Tradeoff\n",
    "* Look at/listen to sentences you recorded again in praat \n",
    "* Identify the part of the recording where a speaker says the \"i\" in writer: this is actually a diphthong /ai/\n",
    "    * What happens to the spectral slice if you select everything between the surrounding consonants? \n",
    "    * What happens if you only select the first half? The second half? \n",
    "    * Compare this to /a/ and /i/ separately. Can you now characterize what a diphthong is? \n",
    "    * What happens if you include the surrounding consonants? \n",
    "    \n",
    "* What you see on the spectogram view of praat is based on a default **frame window** size of 5ms. What happens when you change this? \n"
   ]
  },
  {
   "cell_type": "markdown",
   "metadata": {},
   "source": [
    "### Notes"
   ]
  },
  {
   "cell_type": "code",
   "execution_count": null,
   "metadata": {},
   "outputs": [],
   "source": []
  },
  {
   "cell_type": "markdown",
   "metadata": {},
   "source": [
    "## 1.5 Extras: Seeing the environment in a sound\n",
    "\n",
    "\n",
    "* Recording conditions: \n",
    "     * record close to the microphone, or far away (try it in a reverberant space, such as the bathroom!) – what changes? why?\n",
    "* Analyse some of the synthetic speech signals: [diphone.wav](sounds/diphone.wav), [dnn_parametric.wav](sounds/dnn_parametric.wav), [hmm_parametric.wav](sounds/hmm_parametric.wav),\t[unit_selection1.wav](sounds/unit_selection1.wav), [unit_selection2.wav](sounds/unit_selection2.wav)\n",
    "    * what are the differences between them? use different tools (your ears, the waveform, the spectrogram)\n",
    "    * in what ways are they similar or different to natural speech?\n",
    "    * could you tell they are synthetic just by looking at the spectrogram?"
   ]
  },
  {
   "cell_type": "markdown",
   "metadata": {},
   "source": [
    "### Notes"
   ]
  },
  {
   "cell_type": "code",
   "execution_count": null,
   "metadata": {},
   "outputs": [],
   "source": []
  }
 ],
 "metadata": {
  "kernelspec": {
   "display_name": "Python 3",
   "language": "python",
   "name": "python3"
  },
  "language_info": {
   "codemirror_mode": {
    "name": "ipython",
    "version": 3
   },
   "file_extension": ".py",
   "mimetype": "text/x-python",
   "name": "python",
   "nbconvert_exporter": "python",
   "pygments_lexer": "ipython3",
   "version": "3.7.6"
  }
 },
 "nbformat": 4,
 "nbformat_minor": 2
}
