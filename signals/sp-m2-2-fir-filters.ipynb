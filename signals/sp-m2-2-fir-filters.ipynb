{
 "cells": [
  {
   "cell_type": "markdown",
   "metadata": {},
   "source": [
    "#### _Speech Processing Labs 2020: Signals: Module 2_"
   ]
  },
  {
   "cell_type": "code",
   "execution_count": null,
   "metadata": {},
   "outputs": [],
   "source": [
    "%matplotlib inline\n",
    "import matplotlib.pyplot as plt\n",
    "import numpy as np\n",
    "\n",
    "import cmath\n",
    "from math import floor\n",
    "from matplotlib.animation import FuncAnimation\n",
    "from IPython.display import HTML\n",
    "plt.style.use('ggplot')\n",
    "\n",
    "from dspMisc import *"
   ]
  },
  {
   "cell_type": "markdown",
   "metadata": {},
   "source": [
    "# 2 Filtering the Source: Finite Impulse Response Filters \n",
    "\n",
    "### Learning Outcomes\n",
    "* Be able to describe what an FIR filter is\n",
    "* Be able to explain what the impulse response of an FIR filter is\n",
    "* See how an FIR filter can be used as a lowpass frequency filter.\n",
    "* See how changing the coefficients of an FIR filter can change it's frequency response\n",
    "\n",
    "### Need to know\n",
    "* Topic Videos: Spectral Envelope, Filter, Impulse Train\n",
    "* [Interpreting the DFT](./sp-m1-5-interpreting-the-dft.ipynb)\n",
    "* [Building the source: impulse trains](sp-m2-1-impulse-as-source.ipynb)\n",
    "\n",
    "<div class=\"alert alert-warning\">\n",
    "<strong>Equation alert</strong>: If you're viewing this on github, please note that the equation rendering is not always perfect. You should view the notebooks through a jupyter notebook server for an accurate view.\n",
    "</div>\n",
    "\n",
    "\n",
    "## 2.0 Filters \n",
    "\n",
    "We've seen in the past notebooks that sometimes our input signal isn't exactly what we want. There is a vast literature in signal processing about designing filters to transform one signal into another. In speech processing, our signals often includes some sort of noise that we'd like to get rid of.  However, we can also use filters to shape a simple input, like an impulse train, into something much more complicated, like a speech waveform. \n",
    "\n",
    "In class you've seen two types of filters: \n",
    "\n",
    "* Finite Impulse Response (FIR)\n",
    "* Infinite Impulse Response (IIR)\n",
    "\n",
    "Both perform a transform on an input sequence $x[n]$ to give us some desired output sequence $y[n]$.  The difference between the two types of filters is basically whether we only use the inputs to derive each output $y[n]$ (FIR), or whether we also use previous outputs (IIR). \n",
    "\n",
    "In the following we'll illustrate some of the properties of FIR filters. "
   ]
  },
  {
   "cell_type": "markdown",
   "metadata": {},
   "source": [
    "## 2.1  Finite Impulse Response Filters\n",
    "\n",
    "Finite Impulse Response (FIR) filters have the following form: \n",
    "\n",
    "$$\n",
    "\\begin{align}\n",
    "y[n] &= b[0]x[n] + b[1]x[n-1] + \\dots + b[K]x[n-K] \\\\\n",
    " &= \\sum_{k=0}^K b(k) x[n-k]\n",
    "\\end{align}\n",
    "$$\n",
    "\n",
    "Here, we have: \n",
    "* an input sequence $x[n]$ of length $N$\n",
    "* a set of $K$ filter coefficients.\n",
    "\n",
    "We can read the equation as saying that $n$th ouput of the filter, $y[n]$, is a weighted sum of the previous K inputs $x[n],...,x[n-K]$.  \n",
    "\n",
    "### Example\n",
    "Let's plot the $b[k]\\cdot x[n-k]$ terms where $x$ is sinusoid of 4 Hz and the filter is `b=[1.1, 1.2, 1.5, 1.2, 1.1]`"
   ]
  },
  {
   "cell_type": "code",
   "execution_count": null,
   "metadata": {},
   "outputs": [],
   "source": [
    "## Plotting a filter input window\n",
    "\n",
    "## Set the number of samples N, sampling rate f_s\n",
    "N=64\n",
    "f_s = 64\n",
    "t_s = 1/f_s\n",
    "print(\"sampling rate: f_s = %f\\nsampling time: t_s: %f\" % (f_s, t_s))\n",
    "\n",
    "x, time_steps = gen_sinusoid(frequency=4, phase=0, amplitude=1, sample_rate=f_s, seq_length=N, gen_function=np.cos)\n",
    "\n",
    "## Plot the sinusoid we've just created:\n",
    "fig, timedom = plt.subplots(figsize=(16, 4))\n",
    "timedom.plot(time_steps, x, 'o', color='grey')\n",
    "timedom.set_xlabel('Time (s)')\n",
    "timedom.set_ylabel('Amplitude')\n",
    "\n",
    "## Filter coefficients (you could try changing these)\n",
    "b = [1.1, 1.2, 1.5, 1.2, 1.1]\n",
    "\n",
    "## K is the number of filter coefficients\n",
    "K=len(b)\n",
    "\n",
    "## Let's see what happens when n=19 (or try changing this variable!)\n",
    "n=19\n",
    "print(\"filter using b at n=%d, K=%d\\n\" % (n, K))\n",
    "\n",
    "## Plot the values that are input to the filter\n",
    "## +1's because python indexing/slicing doesn't include the end point\n",
    "timedom.plot(time_steps[n+1-K:n+1], x[n+1-K:n+1], 'o', color='red')\n",
    "\n",
    "## Calculate the b[k]*x[n-k] terms and add them to a list\n",
    "filtered_n = []\n",
    "for k in range(len(b)):\n",
    "    ## print out the variables here\n",
    "    print(\"%d:, b[%d]=%f, x[%d-%d]=%f, b[%d]*x[%d-%d]=%f\" % (n-k, k, b[k], n, k,  x[n-k], k, n, k, b[k]*x[n-k]))\n",
    "    filtered_n.append(b[k]*x[n-k])\n",
    " \n",
    "## reverse the list so that they're in time order\n",
    "filtered_n.reverse()    \n",
    "\n",
    "## Plot the b[k]*x[n-k] terms\n",
    "timedom.plot(time_steps[n+1-K:n+1], filtered_n, 'o', color='blue')\n",
    "\n",
    "## Calculate the filter output (add up the product terms)\n",
    "print(\"\\ny[%d] = %f\" % (n, sum(filtered_n)))"
   ]
  },
  {
   "cell_type": "markdown",
   "metadata": {},
   "source": [
    "In the plot above, you should see:\n",
    "* A cosine wave with frequency 4 Hz in grey.  \n",
    "* The inputs the the filter x[19],...,x[15] in red.  \n",
    "    * 5 input values for 5 filter coefficients\n",
    "* The product $b[k]*x[n-k]$ for $n=19$, and $k=0,...,4$\n",
    "\n",
    "So with `b = [1.1, 1.2, 1.5, 1.2, 1.1]` all the input values get scaled up, with the the middle of the filter window get biggest relative increase.\n",
    "\n",
    "When we add all the product terms together, we get y[19] = 4.87 - a lot bigger than any of the input values! "
   ]
  },
  {
   "cell_type": "markdown",
   "metadata": {},
   "source": [
    "## 2.2 An FIR moving average filter\n",
    "\n",
    "A useful special case of an FIR filter is where each of the filter coefficients is just $1/K$. In this case our FIR equation looks like this: \n",
    "\n",
    " $$ \n",
    " \\begin{align}\n",
    "     y[n] &= \\sum_{k=0}^{K-1} \\frac{1}{K} x[n-k] \\\\\n",
    "          &= \\frac{1}{K} \\sum_{k=0}^{K-1}  x[n-k] \n",
    " \\end{align}\n",
    " $$\n",
    "\n",
    "This equation says that when we apply the filter, we step through the input. At each step, we output the average of the previous $K$ inputs. You might know this by another more intuitive name: a _moving average_.  You might also have seen this as method to 'smooth' an input.  \n",
    "\n",
    "Let's play around with this idea a bit and see how it relates to our notion of frequency response.\n"
   ]
  },
  {
   "cell_type": "markdown",
   "metadata": {},
   "source": [
    "### Example: \n",
    "\n",
    "Let's look at this 5-point moving average filter.  In this case all the filter coefficients $b[k] = 1/5$ for $k=0,..,K-1=4$\n",
    "\n",
    "$$ \n",
    "\\begin{align}\n",
    "y[n] &= \\frac{1}{5} \\sum_{k=0}^4 x[n-k] \\\\\n",
    "&= \\frac{1}{5}x[n] + \\frac{1}{5}x[n-1] + \\frac{1}{5}x[n-2] + \\frac{1}{5}x[n-3] + \\frac{1}{5}x[n-3]\n",
    "\\end{align}\n",
    "$$\n",
    "\n",
    "Now, let's code this specific filter up and apply it to some sequences! \n"
   ]
  },
  {
   "cell_type": "code",
   "execution_count": null,
   "metadata": {},
   "outputs": [],
   "source": [
    "# Apply a moving average filter of size K to input sequence x\n",
    "def moving_average(x, K=5):\n",
    "    ## There are quicker ways to do this in numpy, but let's just do it this way for now for transparency\n",
    "    \n",
    "    ## We know that we'll have as many outputs as inputs, so we can initialize y to all zeros\n",
    "    N = len(x)    \n",
    "    y = np.zeros(N)\n",
    "    \n",
    "    ## Go through the input one step at a time \n",
    "    for n in range(N):\n",
    "        \n",
    "        ## Add up the last K inputs (including the current one)\n",
    "        for k in range(K):\n",
    "            \n",
    "            ## Exercise: why do we have to put this conditional in here? \n",
    "            if n-k >= 0:\n",
    "                y[n] = y[n] + x[n-k]\n",
    "        \n",
    "        ## Divide by the size of the input window to get an average\n",
    "        y[n] = (1/K) * y[n]\n",
    "\n",
    "    return y\n",
    "        \n",
    "    \n"
   ]
  },
  {
   "cell_type": "markdown",
   "metadata": {},
   "source": [
    "### Generate a 'noisy' sinusoid\n",
    "\n",
    "Let's generate a compound sinusoid with one low frequency and one high(er) frequency component.  We can take the higher frequency component as representing some sort of periodic noise in the signal."
   ]
  },
  {
   "cell_type": "code",
   "execution_count": null,
   "metadata": {},
   "outputs": [],
   "source": [
    "## Set the number of samples N, sampling rate f_s\n",
    "N=64\n",
    "f_s = 64\n",
    "t_s = 1/f_s\n",
    "\n",
    "print(\"sampling rate: f_s = %f\\nsampling time: t_s: %f\" % (f_s, t_s))"
   ]
  },
  {
   "cell_type": "code",
   "execution_count": null,
   "metadata": {},
   "outputs": [],
   "source": [
    "## make some sinusoids: \n",
    "## Since the sample rate and sequence length is the same, the generated time steps will match for \n",
    "## x1 and x2\n",
    "x1, time_steps = gen_sinusoid(frequency=4, phase=0, amplitude=1, sample_rate=f_s, seq_length=N, gen_function=np.cos)\n",
    "x2, time_steps = gen_sinusoid(frequency=24, phase=0, amplitude=1, sample_rate=f_s, seq_length=N, gen_function=np.cos)\n",
    "\n",
    "# add them up!\n",
    "x_noisy = x1 + x2"
   ]
  },
  {
   "cell_type": "code",
   "execution_count": null,
   "metadata": {
    "scrolled": true
   },
   "outputs": [],
   "source": [
    "## Plot the compound sinusoid we've just created:\n",
    "fig, timedom = plt.subplots(figsize=(16, 4))\n",
    "timedom.plot(time_steps, x_noisy, color='magenta')\n",
    "timedom.set_xlabel('Time (s)')\n",
    "timedom.set_ylabel('Amplitude')"
   ]
  },
  {
   "cell_type": "markdown",
   "metadata": {},
   "source": [
    "You should be able to see that the 4Hz cosine wave is perturbed by a 24 Hz cosine. So, this could represent a situation where there is high frequency noise in our signal that we'd like to get rid of.  Let's see if we can use our filter to smooth out this high frequency noise. \n"
   ]
  },
  {
   "cell_type": "markdown",
   "metadata": {},
   "source": [
    "### Apply the moving average filter"
   ]
  },
  {
   "cell_type": "code",
   "execution_count": null,
   "metadata": {},
   "outputs": [],
   "source": [
    "## Apply our moving average filter\n",
    "K=5\n",
    "y_mov = moving_average(x_noisy,K=K)"
   ]
  },
  {
   "cell_type": "code",
   "execution_count": null,
   "metadata": {
    "scrolled": true
   },
   "outputs": [],
   "source": [
    "## Plot the results\n",
    "fig, timedom = plt.subplots(figsize=(16, 4))\n",
    "timedom.set_xlabel('Time (s)')\n",
    "timedom.set_ylabel('Amplitude')\n",
    "\n",
    "## The input signal\n",
    "timedom.plot(time_steps, x_noisy, color='magenta', label='Noisy input')\n",
    "\n",
    "## The underlying 4Hz signal\n",
    "timedom.plot(time_steps, x1, color='grey', label='low freq input component')\n",
    "\n",
    "## After the moving average has been applied\n",
    "timedom.plot(time_steps, y_mov, color='blue', label='filter output')\n",
    "\n",
    "timedom.set_title('%d-point moving average filter applied to a noisy sinsuoid' % K)\n",
    "timedom.legend()"
   ]
  },
  {
   "cell_type": "markdown",
   "metadata": {},
   "source": [
    "You should see: \n",
    "* the original signal in magenta\n",
    "* the low frequency cosine component in grey\n",
    "* the output of the filter in blue"
   ]
  },
  {
   "cell_type": "markdown",
   "metadata": {},
   "source": [
    "### Exercise: \n",
    "\n",
    "* From the plot, does it appear that the moving average recovered the original 4Hz signal in terms of:\n",
    "    * frequency?\n",
    "    * amplitude?\n",
    "    * phase?\n",
    "* Are there still high frequency components in the filter output? \n",
    "\n",
    "Can you see some issues with applying this filter? What happens at the end points? Are they valid? "
   ]
  },
  {
   "cell_type": "markdown",
   "metadata": {},
   "source": [
    "### Notes"
   ]
  },
  {
   "cell_type": "code",
   "execution_count": null,
   "metadata": {},
   "outputs": [],
   "source": []
  },
  {
   "cell_type": "markdown",
   "metadata": {},
   "source": [
    "### Get the DFT of the filtered signal\n",
    "\n",
    "We can apply the DFT to our output to check our observations from the time-domain output. "
   ]
  },
  {
   "cell_type": "code",
   "execution_count": null,
   "metadata": {},
   "outputs": [],
   "source": [
    "## DFT of the original input\n",
    "mags_x, phases_x = get_dft_mag_phase(x_noisy, N)\n",
    "\n",
    "## DFT of the filter output\n",
    "mags_y, phases_y = get_dft_mag_phase(y_mov, N)"
   ]
  },
  {
   "cell_type": "code",
   "execution_count": null,
   "metadata": {
    "scrolled": false
   },
   "outputs": [],
   "source": [
    "dft_freqs = get_dft_freqs_all(sample_rate=f_s, seq_len=N)\n",
    "\n",
    "fig, mags = plt.subplots(figsize=(16, 4))\n",
    "mags.set(xlim=(-1, N/2), ylim=(-1, N))\n",
    "mags.scatter(dft_freqs, mags_x, color='magenta', label='noisy input')\n",
    "mags.scatter(dft_freqs, mags_y, color='blue', label='filtered output')\n",
    "mags.set_xlabel(\"Frequency (Hz)\")\n",
    "mags.set_ylabel(\"Magnitude\")\n",
    "mags.set_title(\"DFT Magnitude before and after moving average filter\")\n",
    "mags.legend()\n",
    "\n",
    "#Let's not worry about phase right now, but feel free to uncomment and have a look! \n",
    "#fig, phases = plt.subplots(figsize=(16, 4))\n",
    "#phases.set(xlim=(-1, N/2), ylim=(-10, 10))\n",
    "#phases.scatter(dft_freqs, phases_x, color='magenta', label='noisy input')\n",
    "#phases.scatter(dft_freqs, phases_y, color='blue', label='filtered output')\n",
    "#phases.set_xlabel(\"Frequency (Hz)\")\n",
    "#phases.set_ylabel(\"Phase (rad)\")\n",
    "#phases.set_title(\"DFT Phase before and after moving average filter\")\n",
    "#phases.legend()\n"
   ]
  },
  {
   "cell_type": "markdown",
   "metadata": {},
   "source": [
    "### Exercise\n",
    "\n",
    "* Based on the magnitude spectrum: \n",
    "    * Did the filter get rid of the 24Hz component? \n",
    "    * Do you see any signs of leakage? \n",
    " \n",
    "    \n",
    "* What happens if you change the frequency of the second sinusoid to something lower (e.g. 6Hz)? "
   ]
  },
  {
   "cell_type": "markdown",
   "metadata": {},
   "source": [
    "### Notes"
   ]
  },
  {
   "cell_type": "code",
   "execution_count": null,
   "metadata": {},
   "outputs": [],
   "source": []
  },
  {
   "cell_type": "markdown",
   "metadata": {},
   "source": [
    "## 2.3 FIR as convolution\n",
    "\n",
    "An FIR Filter that takes $K$ previous elements of $x[n]$ as input has the following general form: \n",
    "\n",
    "$$ y[n] = \\sum_{k=0}^{K-1} b[k] x[n-k] $$ \n",
    "\n",
    "You might recognize this as a **convolution** of the two sequences $b$ and $x$  (i.e. $b * x$).\n",
    "\n",
    "So, we can theoretically set our filter to coefficients to whatever we want.  Here's a function that generalizes our moving average filter to allow for this:"
   ]
  },
  {
   "cell_type": "code",
   "execution_count": null,
   "metadata": {},
   "outputs": [],
   "source": [
    "def fir_filter(x, filter_coeffs):\n",
    "    N = len(x)\n",
    "    K = len(filter_coeffs)\n",
    "    \n",
    "    y = np.zeros(N)   \n",
    "    for n in range(N):\n",
    "        for k in range(K):\n",
    "            if n-k >= 0: \n",
    "                #print(\"y[%d]=%f, b[%d]=%f, x[%d]=%f\" % (n, y[n], k, filter_coeffs[k], n-k, x[n-k]))\n",
    "                y[n] = y[n] + (filter_coeffs[k]*x[n-k])\n",
    "        #print(\"y[%d]=%f\" % (n, y[n]))\n",
    "    return y    \n",
    "    "
   ]
  },
  {
   "cell_type": "markdown",
   "metadata": {},
   "source": [
    "### Changing the filter coefficients\n",
    "\n",
    "Let's try it out with different coefficient values, comparing our unweighted average `h_avg` filter with a weighted average `h_wavg` filter. "
   ]
  },
  {
   "cell_type": "code",
   "execution_count": null,
   "metadata": {},
   "outputs": [],
   "source": [
    "\n",
    "## The 5-point moving average from before\n",
    "h_avg = np.array([1/5, 1/5, 1/5, 1/5, 1/5])\n",
    "y_avg = fir_filter(x_noisy, h_avg)\n",
    "\n",
    "## A 5-point symmetrically weighted average \n",
    "h_wavg = np.array([1/5, 1/3, 1, 1/3, 1/5])\n",
    "y_wavg = fir_filter(x_noisy, h_wavg)"
   ]
  },
  {
   "cell_type": "markdown",
   "metadata": {},
   "source": [
    "### Filter effects in the time domain"
   ]
  },
  {
   "cell_type": "code",
   "execution_count": null,
   "metadata": {
    "scrolled": false
   },
   "outputs": [],
   "source": [
    "## Plot the filter outputs\n",
    "fig, timedom = plt.subplots(figsize=(16, 4))\n",
    "\n",
    "## The original \"noisy\" input\n",
    "timedom.plot(time_steps, x_noisy, color='magenta', label='input x_noisy')\n",
    "timedom.scatter(time_steps, x_noisy, color='magenta')\n",
    "\n",
    "## The 5-point moving average\n",
    "timedom.plot(time_steps, y_avg, color='blue', label='unweighted average: y_avg')\n",
    "timedom.scatter(time_steps, y_avg, color='blue')\n",
    "\n",
    "## The 5-point weighted average\n",
    "timedom.plot(time_steps, y_wavg, color='orange', label='weighted average: y_wavg')\n",
    "timedom.scatter(time_steps, y_wavg, color='orange')\n",
    "timedom.legend()\n",
    "timedom.set_xlabel('Time (s)')\n",
    "timedom.set_ylabel('Amplitude')"
   ]
  },
  {
   "cell_type": "markdown",
   "metadata": {},
   "source": [
    "In this time vs amplitude graph, you should see:\n",
    "* the 'noisy input' in magenta\n",
    "* the output of the unweighted average filter in blue (`y_avg`)\n",
    "* the output of the weighted average filter in orange (`y_wavg`)"
   ]
  },
  {
   "cell_type": "markdown",
   "metadata": {},
   "source": [
    "### Exercise\n",
    "\n",
    "Q: Why is the output of `y_wavg` more spikey than that of `y_avg`?\n"
   ]
  },
  {
   "cell_type": "markdown",
   "metadata": {},
   "source": [
    "### Notes"
   ]
  },
  {
   "cell_type": "code",
   "execution_count": null,
   "metadata": {},
   "outputs": [],
   "source": []
  },
  {
   "cell_type": "markdown",
   "metadata": {},
   "source": [
    "## 2.4 FIR Filters in the Frequency Domain\n",
    "\n",
    "\n",
    "### The DFT of the filtered outputs\n",
    "\n",
    "We can look at the effect of the two FIR filters defined above in the frequency domain by performing a DFT on the filter outputs. \n"
   ]
  },
  {
   "cell_type": "code",
   "execution_count": null,
   "metadata": {},
   "outputs": [],
   "source": [
    "## DFT of the original input\n",
    "mags_x, phases_x = get_dft_mag_phase(x_noisy, N)\n",
    "\n",
    "## DFT after weighted average filter: h_wavg = np.array([1/5, 1/3, 1, 1/3, 1/5])\n",
    "mags_wavg, phases_wavg = get_dft_mag_phase(y_wavg, N)\n",
    "\n",
    "## DFT after unweighted average filter: h_avg = np.array([1/5, 1/5, 1/5, 1/5, 1/5])\n",
    "mags_avg, phases_avg = get_dft_mag_phase(y_avg, N)\n",
    "\n",
    "dft_freqs = get_dft_freqs_all(sample_rate=f_s, seq_len=N)\n",
    "\n",
    "## Plot magnitude spectrums\n",
    "fig, mags = plt.subplots(figsize=(16, 4))\n",
    "mags.set(xlim=(-1, N/2), ylim=(-1, N))\n",
    "mags.scatter(dft_freqs, mags_x, color='magenta', label='input')\n",
    "mags.scatter(dft_freqs, mags_avg, color='blue', label='unweighted average')\n",
    "mags.scatter(dft_freqs, mags_wavg, color='orange', label='weighted average')\n",
    "mags.legend()\n",
    "\n",
    "## Plot phase spectrums\n",
    "fig, phases = plt.subplots(figsize=(16, 4))\n",
    "phases.set(xlim=(-1, N/2), ylim=(-10, 10))\n",
    "phases.scatter(dft_freqs, phases_x, color='magenta', label='input')\n",
    "phases.scatter(dft_freqs, phases_avg, color='blue', label='unweighted average')\n",
    "phases.scatter(dft_freqs, phases_wavg, color='orange', label='weighted average')\n",
    "phases.legend()\n"
   ]
  },
  {
   "cell_type": "markdown",
   "metadata": {},
   "source": [
    "### Exercise: \n",
    "\n",
    "* Describe the difference between the different FIR filters based on the frequency magnitude and phases responses plotted above. \n",
    "\n",
    "* Does the weighted average filter do as good a job at filtering out the higher frequency signals? \n",
    "\n"
   ]
  },
  {
   "cell_type": "markdown",
   "metadata": {},
   "source": [
    "### Notes"
   ]
  },
  {
   "cell_type": "code",
   "execution_count": null,
   "metadata": {},
   "outputs": [],
   "source": []
  },
  {
   "cell_type": "markdown",
   "metadata": {},
   "source": [
    "\n",
    "## 2.5 Convolution in Time,  Multiplication in Frequency \n",
    "\n",
    "\n",
    "Now we get to the really cool bit.  We know that the DFT allows us to go from the time domain to the frequency domain (and the Inverse DFT let's us go back).  But it also has this very important property: \n",
    "\n",
    "$$ h[k] * x[n] \\mapsto \\text{ DFT} \\mapsto H(m) \\cdot X(m) $$\n",
    "\n",
    "\n",
    "\n",
    "\n",
    "That is, convolving an input sequence $x$ with a set of filter coefficients, $h$ in the time domain  ($h*x$) is the same as (pointwise) multiplication of the DFT of $h$ with the DFT of $x$.  So, if we know what type of frequency response $h$ has, we can treat this as apply a sort of mask to the DFT of $x$.  This property is known as the **convolution theorem**. \n",
    "\n",
    "Another way to think about it is that if the DFT outputs of $h$ has zero magnitude, then applying that filter to some input will also zero out those frequencies in the filter output! \n",
    "\n",
    "We'll see some visualizations of this shortly, but first, we can also note that you can go back the other way using the Inverse DFT: \n",
    "\n",
    "$$ H(m) \\cdot X(m) \\mapsto \\text{ IDFT} \\mapsto h[k] * x[n] $$\n",
    "\n",
    "\n",
    "And also it works for multiplication in time domain too: \n",
    "\n",
    "$$ h[k] \\cdot x[n] \\mapsto \\text{DFT} \\mapsto H(m) * X(m) $$\n",
    "\n",
    "This is useful for understanding why the leakage graph around each DFT bin looks the way it does (though we won't go into it here!). \n",
    "\n",
    "In fact, we can use this to not only show that the moving average acts as a low pass filter, but also to be able to calculate exactly the type of filter it will be. "
   ]
  },
  {
   "cell_type": "markdown",
   "metadata": {},
   "source": [
    "###  Plotting different FIR filter frequency responses\n",
    "\n",
    "In order to multiply together the filter and the input frequency responses, we need to make sure the filter and the input have the same number of samples.  We can do this by just padding out the filter with zeros (you can see why in the optional extra material at the end of this notebook).  We can then look how changing the 'shape' of a filter changes it's frequency response. The following exercise shows some examples. "
   ]
  },
  {
   "cell_type": "markdown",
   "metadata": {},
   "source": [
    "### Exercise\n",
    "* Run the function plot_filter_freq_responses (defined in the next cell) to plot the frequency responses of filters with different shapes (e.g. `h_plat`, `h_tri`, `h_rect` in the cell below the next).  \n",
    "    * What's the difference in frequency response of the triangular filter and the rectangular filter? \n",
    "    * What's the difference between the moving average of size 5 and one of size 9 (h_rect9)? \n",
    "    * Try some other FIR filters! "
   ]
  },
  {
   "cell_type": "code",
   "execution_count": null,
   "metadata": {},
   "outputs": [],
   "source": [
    "# Given a list of filters, the sample rate and a specific sequence length\n",
    "# plot the DFT frequency response of each filter.\n",
    "# Each filter should be defined as a list of coeffients (b[k])\n",
    "def plot_filter_freq_responses(filters, sample_rate, seq_length):\n",
    "\n",
    "    ## Get the set of DFT output frequencies given the sample rate and desired sequence length\n",
    "    dft_freqs_filter = (sample_rate/seq_length) * np.arange(seq_length)\n",
    "    \n",
    "    ## Calculate the time steps for each filter value given the sample rate and sequence length\n",
    "    time_steps = (1/sample_rate) * np.arange(seq_length)\n",
    "    \n",
    "    ## Set up some plots:\n",
    "    # the filter itself (time v amplitude)\n",
    "    fig_time, sinusoid = plt.subplots(figsize=(16, 4))\n",
    "    \n",
    "    # the frequency response (freq v magnitude)\n",
    "    fig_freq, fresponse = plt.subplots(figsize=(16, 4))\n",
    "  \n",
    "    x_filters = {}\n",
    "    ## For each filter: \n",
    "    for i, h in enumerate(filters): \n",
    "        \n",
    "        # pad the filter coefficients with zeros until we get the desired sequence length\n",
    "        x_zeros = np.zeros(seq_length - len(h))\n",
    "        x = np.concatenate([h, x_zeros])\n",
    "        \n",
    "        # Get the DFT outputs\n",
    "        mags, phases = get_dft_mag_phase(x, seq_length)\n",
    "        \n",
    "        # Plot the filter\n",
    "        sinusoid.scatter(time_steps, x)\n",
    "        sinusoid.plot(time_steps, x, label=repr(h))\n",
    "\n",
    "        # plot the magnitude response\n",
    "        fresponse.scatter(dft_freqs_filter, mags)\n",
    "        fresponse.plot(dft_freqs_filter, mags, label=repr(h))\n",
    "        fresponse.set(xlim=(-1,seq_length/2))\n",
    "        \n",
    "        # return the filters and the DFT responses just in case\n",
    "        x_filters = {'x':x, 'mags':mags, 'phases':phases, 'coeffs':h}\n",
    "\n",
    "    sinusoid.set_xlabel('Time(s)')\n",
    "    sinusoid.set_ylabel('Amplitude')\n",
    "    sinusoid.set_title('Zero padded filters of different shapes')\n",
    "    sinusoid.legend() \n",
    "    \n",
    "    fresponse.set_xlabel('Frequency (Hz)')\n",
    "    fresponse.set_ylabel('Magnitude')\n",
    "    fresponse.set_title('DFT magnitude response of ero padded filters of different shapes')\n",
    "    fresponse.legend()\n",
    "    \n",
    "    return x_filters\n"
   ]
  },
  {
   "cell_type": "code",
   "execution_count": null,
   "metadata": {
    "scrolled": true
   },
   "outputs": [],
   "source": [
    "h_plat = np.array([0.1, 0.2, 0.2, 0.2, 0.1])\n",
    "h_tri = np.array([0.04, 0.12, 0.15, 0.12, 0.01])\n",
    "h_rect = np.array([1/5, 1/5, 1/5, 1/5, 1/5])\n",
    "h_rect9 = np.array([1/9, 1/9, 1/9, 1/9, 1/9, 1/9, 1/9, 1/9, 1/9])\n",
    "## Try some others if you like!\n",
    "\n",
    "N=64\n",
    "f_s=64\n",
    "\n",
    "filter_dict = plot_filter_freq_responses(filters=[h_tri, h_plat, h_rect, h_rect9], sample_rate=f_s, seq_length=N)"
   ]
  },
  {
   "cell_type": "markdown",
   "metadata": {},
   "source": [
    "### Notes\n",
    "\n"
   ]
  },
  {
   "cell_type": "code",
   "execution_count": null,
   "metadata": {},
   "outputs": [],
   "source": []
  },
  {
   "cell_type": "markdown",
   "metadata": {},
   "source": [
    "## 2.7 Applying an FIR filter to an impulse train\n",
    "\n",
    "Now, finally we can look at the effect of applying an FIR filter to an impulse train.  Remember, we're using impulse trains to represent a sound source (i.e. vocal pulses at a specific frequency).  Eventually, we want to be able to define filters that capture the effects of the vocal tract.  \n",
    "\n",
    "First, here's a function that produces a sequence of pulses at a given frequency and sample rate. We'll then apply a triangular filter and look at what the frequency response is of the output is. "
   ]
  },
  {
   "cell_type": "code",
   "execution_count": null,
   "metadata": {},
   "outputs": [],
   "source": [
    "## Let's make an impulse train\n",
    "N=200\n",
    "f_s = 8000\n",
    "t_s = 1/f_s\n",
    "\n",
    "frequency = 200\n",
    "\n",
    "x_imp, time_steps = make_impulse_train(sample_rate=f_s, frequency=frequency, n_samples=N)\n"
   ]
  },
  {
   "cell_type": "code",
   "execution_count": null,
   "metadata": {},
   "outputs": [],
   "source": [
    "## Plot the impulse train made in the cell before\n",
    "fig, td = plt.subplots(figsize=(16, 4))\n",
    "td.scatter(time_steps, x_imp)\n",
    "td.plot(time_steps, x_imp)\n",
    "td.set_xlabel('Time (s)')\n",
    "td.set_ylabel('Amplitude')\n",
    "td.set_title('Impulse train')"
   ]
  },
  {
   "cell_type": "markdown",
   "metadata": {},
   "source": [
    "You should see an impulse train, with an impulse frequency of 200 Hz.  Let's see what happens when we apply the filter. "
   ]
  },
  {
   "cell_type": "code",
   "execution_count": null,
   "metadata": {},
   "outputs": [],
   "source": [
    "## define our FIR filter coefficients\n",
    "h_mov = np.array([0.1, 0.3, 0.5, 0.3, 0.1])\n",
    "\n",
    "#try this later!\n",
    "#h_mov = np.array([1])\n",
    "\n",
    "\n",
    "## Apply the filter to our impulse train\n",
    "y_mov = fir_filter(x_imp, h_mov)\n",
    "\n",
    "## plot the impulse train and the filtered version of it\n",
    "fig, td = plt.subplots(figsize=(16, 4))\n",
    "td.scatter(time_steps, x_imp)\n",
    "td.plot(time_steps, x_imp, label='impulse train')\n",
    "td.plot(time_steps, y_mov, label='filtered impulse train')\n",
    "td.set_xlabel('Time (s)')\n",
    "td.set_ylabel('Amplitude')\n",
    "td.legend()\n",
    "td.set_title('Impulse train and filtered impulse train')"
   ]
  },
  {
   "cell_type": "markdown",
   "metadata": {},
   "source": [
    "Here you should see our impulse train (red) and the filtered impulse train (blue).  The filtered version has smaller amplitude and a broader peak (more samples have non-zero value).  Also, the filtered peaks are slightly after the original impulses. \n",
    "\n",
    "Now let's look at the DFT output: "
   ]
  },
  {
   "cell_type": "code",
   "execution_count": null,
   "metadata": {},
   "outputs": [],
   "source": [
    "## Get the DFT the filter output\n",
    "mags, phases = get_dft_mag_phase(y_mov, N)\n",
    "\n",
    "## Plot the DFT frequencies rather than DFT output indices\n",
    "dft_freqs = get_dft_freqs_all(f_s, N)\n",
    "\n",
    "## Plot the magnitude spectrum\n",
    "fig, ax = plt.subplots(figsize=(16, 4))\n",
    "ax.scatter(dft_freqs[0:int(N/2)],mags[0:int(N/2)])\n",
    "ax.plot(dft_freqs[0:int(N/2)], mags[0:int(N/2)])\n"
   ]
  },
  {
   "cell_type": "markdown",
   "metadata": {},
   "source": [
    "### Exercises\n",
    "\n",
    "* What do the spikes in the DFT outputs represent? \n",
    "* What does the first spike after the 0 frequency one represent? \n",
    "* What does this filter appear to do?\n",
    "    * Remember applying the FIR filter in the time domain (via convolution) is the same as multiplying the DFT of the filter to the DFT of the input signal"
   ]
  },
  {
   "cell_type": "markdown",
   "metadata": {},
   "source": [
    "### Notes"
   ]
  },
  {
   "cell_type": "code",
   "execution_count": null,
   "metadata": {},
   "outputs": [],
   "source": []
  },
  {
   "cell_type": "markdown",
   "metadata": {},
   "source": [
    "### Exercises \n",
    "\n",
    "* What happens when the impulse train frequency doesn't fall on one of the bins? e.g. `frequency = 130`, for 200 samples, with sampling rate 8000 samples/second\n",
    "* Does the magnitude spectrum have the harmonic structure you'd expect? "
   ]
  },
  {
   "cell_type": "markdown",
   "metadata": {},
   "source": [
    "### Notes"
   ]
  },
  {
   "cell_type": "code",
   "execution_count": null,
   "metadata": {},
   "outputs": [],
   "source": []
  },
  {
   "cell_type": "markdown",
   "metadata": {},
   "source": [
    "## 2.6 (Extra Extension) The moving average filter as a rectangular function\n",
    "\n",
    "<div class=\"alert alert-warning\">\n",
    "<em>This section (2.6) illustrates how we can use the convolution theorem understand why the moving average type filters act like low pass filters, and also the connection with leakage in the DFT magnitude response we saw previously.  This is optional extra material. \n",
    "    \n",
    "\n",
    "If you want to see an example of the convolution theorem working in the frequency domain, you can just run the code and have a look at the graph titled 'Frequency response after applying 5-point weighted average filter'</em>\n",
    "</div>\n",
    "\n",
    "The convolution theorem tells us that, if we know the frequency response of an FIR filter, we know how it will affect the frequency response of it's input (we just multiply the individual frequency response together). \n",
    "\n",
    "To understand what filter frequency response will look like, it's helpful to first observe that our unweighted moving average filter is pretty much a rectangular window function.  It's easy to see what this means when we plot it. The following function allows us to generate rectangular functions:"
   ]
  },
  {
   "cell_type": "code",
   "execution_count": null,
   "metadata": {},
   "outputs": [],
   "source": [
    "def gen_rect_window(start_index, end_index, sample_rate=64, seq_length=64): \n",
    "    nsteps = np.array(range(seq_length))\n",
    "    t_s = 1/sample_rate\n",
    "    time_steps = t_s * nsteps\n",
    "\n",
    "    ## Let's make a rectangular window\n",
    "    x_rect = np.zeros(seq_length)\n",
    "    x_rect[start_index:end_index] = 1\n",
    "    \n",
    "    return x_rect, time_steps\n"
   ]
  },
  {
   "cell_type": "markdown",
   "metadata": {},
   "source": [
    "###  Now, we make a rectangular window"
   ]
  },
  {
   "cell_type": "code",
   "execution_count": null,
   "metadata": {
    "scrolled": true
   },
   "outputs": [],
   "source": [
    "## Make rectangular window\n",
    "N=64\n",
    "K=16\n",
    "f_s=64\n",
    "start_index=24\n",
    "end_index=start_index+K\n",
    "\n",
    "x_rect, time_steps = gen_rect_window(start_index=start_index, end_index=end_index, sample_rate=f_s, seq_length=N)\n",
    "\n",
    "fig, timedom = plt.subplots(figsize=(16, 4))\n",
    "timedom.scatter(time_steps, x_rect, color='magenta')\n",
    "timedom.plot(time_steps, x_rect, color='magenta')\n",
    "timedom.set_xlabel('Time (s)')\n",
    "timedom.set_ylabel('Amplitude')\n",
    "timedom.set_title('a rectangular window')"
   ]
  },
  {
   "cell_type": "markdown",
   "metadata": {},
   "source": [
    "You should see a sequence with 64 point where the mmiddle 16 points have value 1 and the rest have value 0  (i.e., it looks like a rectangle in the middle)."
   ]
  },
  {
   "cell_type": "markdown",
   "metadata": {},
   "source": [
    "### Now, let's  look at the frequency response of the rectangular window"
   ]
  },
  {
   "cell_type": "code",
   "execution_count": null,
   "metadata": {},
   "outputs": [],
   "source": [
    "## Now we do the DFT on the rectangular function:\n",
    "\n",
    "## get the magnitudes and phases\n",
    "mags_rect, phases_rect = get_dft_mag_phase(x_rect, N)\n",
    "\n",
    "## the DFT output frequencies\n",
    "dft_freqs_rect = get_dft_freqs_all(f_s, N)\n",
    "\n",
    "## let's just look at the magnitudes\n",
    "fig, fdom = plt.subplots(figsize=(16, 4))\n",
    "fdom.set(xlim=(-1, N/2))\n",
    "fdom.scatter(dft_freqs_rect, mags_rect)\n",
    "fdom.set_xlabel(\"Frequency (Hz)\")\n",
    "fdom.set_ylabel('Magnitude')\n",
    "fdom.set_title('Frequency response of rectangular window')\n",
    "## Looks leaky! "
   ]
  },
  {
   "cell_type": "markdown",
   "metadata": {},
   "source": [
    "### Leaky windows? \n",
    "\n",
    "The plot of the frequency magnitude response of our rectangular window has the hallmarks of leakiness. That is, the frequency response looks scalloped, with the biggest peak occuring around 0Hz. That is, it looks like a low pass filter!  \n",
    "\n",
    "With a bit of algebra we can derive the frequency for any $m$ (not just the DFT output bins indices) to be the following:  \n",
    "\n",
    "If $x[n]$ is a rectangular function of N samples with $K$ continugous samples of value 1 (starting at index $n_0$), we can figure out what the DFT output will be:\n",
    "\n",
    "$$X[m] = e^{i(2\\pi m/N)(n_0-(K-1)/2)} . \\frac{\\sin(2\\pi mK/2N)}{\\sin(2\\pi m /2N)}$$\n",
    "\n",
    "This is called the **Dirichlet kernel**. It has the **sinc** shape we saw when we looked at spectral leakage. \n",
    "\n",
    "How is this useful?  Since we know what the frequency response of a rectangular window is, we know what convolving this with different input sequences will look like in the frequency domain.  We just multiply the frequency magnitude responses together. \n",
    "\n",
    "<div class=\"alert alert-success\">\n",
    "On a more general note, this sort of convolution with a (short) window is how we do frequency analysis of speech: we taking windows of speech (aka frames) through time and and apply the DFT to get a frequency response.  A rectangular window is the simplest type of window we can take.  The equation above tells us that the sinc shaped response is an inherent part of using this sort of window.  In fact, we can use other window types (e.g. Hanning) to make the main lobes shaper and the sidelobes flatter, but we never really get away from this sinc shape in real world applications.  This is a key component of this soft of <strong>short term analysis</strong>.  \n",
    "\n",
    "  </div>\n",
    "\n",
    "Let's write this up in a function: "
   ]
  },
  {
   "cell_type": "code",
   "execution_count": null,
   "metadata": {},
   "outputs": [],
   "source": [
    "def gen_rect_response(n_0, K, N, stepsize=0.01, polar=True, amplitude=1):\n",
    "    ms = np.arange(0.01, N, stepsize)\n",
    "    qs = 2*np.pi*ms/N \n",
    "\n",
    "    ## Infact, we can work the frequency response to be the Dirichlet Kernel:\n",
    "    response = (np.exp(-1j*qs*(n_0-(K-1)/2)) * np.sin(qs*K/2))/np.sin(qs/2) \n",
    "    \n",
    "    if polar: \n",
    "        response_polar = [cmath.polar(z) for z in response]\n",
    "        mags = np.array([m for m, _ in response_polar]) * amplitude\n",
    "        phases = np.array([ph if round(mag) > 0 else 0 for mag, ph in response_polar])\n",
    "        return (mags, phases, ms)\n",
    "        \n",
    "    return response, ms\n",
    "    "
   ]
  },
  {
   "cell_type": "markdown",
   "metadata": {},
   "source": [
    "Now we can plot the dirichlet kernel with the leaky looking DFT magnitudes we calculated earlier for our rectangular window.  "
   ]
  },
  {
   "cell_type": "code",
   "execution_count": null,
   "metadata": {
    "scrolled": true
   },
   "outputs": [],
   "source": [
    "## Overlay the dirichlet kernel onto the DFT magnitudes we calculated earlier\n",
    "## You should be able to see that the DFT magnitudes appear as discrete samples of the Dirichlet Kernel\n",
    "\n",
    "mags_rect, phases_rect = get_dft_mag_phase(x_rect, N)\n",
    "mags_rect_sinc , _ , ms = response = gen_rect_response(start_index, K, N)\n",
    "\n",
    "fig, ax = plt.subplots(figsize=(16, 4))\n",
    "ax.scatter(dft_freqs_rect, mags_rect, label='rectangular window')\n",
    "ax.plot((f_s/N)*ms, mags_rect_sinc, color='C2', label='dirichlet')\n",
    "ax.set(xlim=(-1,N/2))\n",
    "ax.set_xlabel('Frequency (Hz)')\n",
    "ax.set_ylabel('Magnitude')\n",
    "ax.set_title('Frequency response of a rectangular sequence, %d samples with %d contiguous ones' % (N, K))"
   ]
  },
  {
   "cell_type": "markdown",
   "metadata": {},
   "source": [
    "You should be able to see that the DFT magnitudes appear as discrete samples of the sinc shaped Dirichlet Kernel\n",
    "\n",
    "\n"
   ]
  },
  {
   "cell_type": "markdown",
   "metadata": {},
   "source": [
    "### The unweighted average filter as a rectangular function\n",
    "\n",
    "We can think of our 5-point unweighted average filter as a 5-point input sequence with all values set to 1/5.  We can then deduce that the frequency response of the filter will have the same shape as the frequency response of a rectangular window of all ones, but scaled down by 1/5.  \n",
    "\n",
    "Now let's check: "
   ]
  },
  {
   "cell_type": "code",
   "execution_count": null,
   "metadata": {
    "scrolled": true
   },
   "outputs": [],
   "source": [
    "N_h=5 \n",
    "f_s=64\n",
    "start_index=0\n",
    "end_index=N_h - start_index\n",
    "\n",
    "## A 5 point rectangular window of all ones\n",
    "h_avg, time_steps = gen_rect_window(start_index=start_index, end_index=end_index, sample_rate=f_s, seq_length=N_h)\n",
    "h_avg = h_avg/N_h\n",
    "\n",
    "fig, td = plt.subplots(figsize=(16, 4))\n",
    "td.scatter(time_steps, h_avg, color='magenta')\n",
    "td.plot(time_steps, h_avg, color='magenta')\n",
    "td.set_xlabel('Time (s)')\n",
    "td.set_ylabel('Amplitude')\n",
    "td.set_title('5 point unweighted average as a rectangular function')\n",
    "\n",
    "## Not very exciting looking! \n",
    "print(\"h_avg:\", h_avg)"
   ]
  },
  {
   "cell_type": "markdown",
   "metadata": {},
   "source": [
    "You should just see 5 point in a row, all with value 1/5.  Now, we can plot the DFT magnitude response, as well as it's idealized continuous version: "
   ]
  },
  {
   "cell_type": "code",
   "execution_count": null,
   "metadata": {
    "scrolled": true
   },
   "outputs": [],
   "source": [
    "## Get the frequency magnitude response for our rectangular function\n",
    "mags_h_avg, phases_h_avg = get_dft_mag_phase(h_avg, N_h)\n",
    "\n",
    "## Get the continuous \n",
    "rect_mags_h_avg, _ , ms = gen_rect_response(start_index, N_h, N_h, amplitude=np.max(h_avg)) \n",
    "\n",
    "\n",
    "## x-axis as frequencies rather than indices\n",
    "ms_freqs_h_avg = (f_s/N_h) * ms\n",
    "dft_freqs_h_avg = (f_s/N_h) * np.arange(N_h)\n",
    "\n",
    "## Plot the frequency magnitude response\n",
    "fig, fd = plt.subplots(figsize=(16, 4))\n",
    "fd.set(xlim=(-1, N/2))\n",
    "fd.scatter(dft_freqs_h_avg, mags_h_avg)\n",
    "fd.set_xlabel('Frequency (Hz)')\n",
    "fd.set_ylabel('Magnitude')\n",
    "fd.set_title('Frequency response of 5-point unweighter average filter')\n",
    "#fd.scatter(dft_freqs_rect, mags_rect)\n",
    "\n",
    "fd.plot(ms_freqs_h_avg, rect_mags_h_avg, color=\"C2\")"
   ]
  },
  {
   "cell_type": "markdown",
   "metadata": {},
   "source": [
    "You should see $floor(N/2) = 2$ points, with a main lobe peaking at 0 Hz, and side lobes peaking between each of the DFT output frequencies.  \n",
    "So,  DFT frequencies sit exactly at the zeros of this function when the windown size K is the same as the number of samples. \n"
   ]
  },
  {
   "cell_type": "markdown",
   "metadata": {},
   "source": [
    "### Matching the filter and input size with zero padding\n",
    "\n",
    "The theorem we saw above told us that we could calculate the frequency response of applying the FIR filter to an input sequence (via convolution), but multiply the DFT outputs of the filter and the input sequence.  \n",
    "\n",
    "Now, the x-axis range matches our that of our noisy input sequence because that is determined by the sampling rate. However, the filter frequency response we have above only has 5 outputs, while our input sample size was 64 because the number of DFT outputs is determined by the number of samples we put into the DFT.  \n",
    "\n",
    "To get things in the right form, we need to do some **zero padding** of the filter. We'll see that this basically gives us more samples of the Dirichlet Kernel corresponding to the filter frequency response. \n",
    "\n"
   ]
  },
  {
   "cell_type": "code",
   "execution_count": null,
   "metadata": {
    "scrolled": true
   },
   "outputs": [],
   "source": [
    "N=64\n",
    "K=5\n",
    "f_s=64\n",
    "start_index=0\n",
    "end_index=K\n",
    "\n",
    "## Make a rectangular filter: K ones at the start\n",
    "h_avg_pad, time_steps = gen_rect_window(start_index=start_index, end_index=end_index, sample_rate=f_s, seq_length=N)\n",
    "\n",
    "## Divide by K to make it an average\n",
    "h_avg_pad = h_avg_pad/K\n",
    "\n",
    "## Plot the filter\n",
    "fig, td = plt.subplots(figsize=(16, 4))\n",
    "td.scatter(time_steps, h_avg_pad, color='magenta')\n",
    "td.plot(time_steps, h_avg_pad, color='magenta')\n",
    "td.set_xlabel('Time (s)')\n",
    "td.set_title('5 point unweighted average FIR filter padded with zeros')\n",
    "\n",
    "#print(\"N=%d, K=%d, start=%d, end=%d\" % (N, K, start_index, end_index))\n",
    "\n",
    "\n"
   ]
  },
  {
   "cell_type": "code",
   "execution_count": null,
   "metadata": {},
   "outputs": [],
   "source": [
    "## Get the frequency magnitude response for our rectangular function\n",
    "mags_havg, phases_havg = get_dft_mag_phase(h_avg_pad, N)\n",
    "\n",
    "## Plot the frequency magnitude response \n",
    "## x-axis as actual frequencies rather that DFT indices\n",
    "dft_freqs_havg = (f_s/N) * np.arange(N)\n",
    "\n",
    "fig, fd = plt.subplots(figsize=(16, 4))\n",
    "fd.set(xlim=(-1,N/2))\n",
    "fd.scatter(dft_freqs_havg, mags_havg)\n",
    "fd.set_xlabel('Frequency (Hz)')\n",
    "fd.set_ylabel('Magnitude')\n",
    "fd.set_title('Magnitude response of 5-point unweighter average filter zero padded to 64 samples')"
   ]
  },
  {
   "cell_type": "markdown",
   "metadata": {},
   "source": [
    "You should be able to see more clearly in the frequency response graph that the zero padding doesn't change doesnt change the basic shape of the filter's frequency response, we just get a finer grained representation in terms of samples (red dots). "
   ]
  },
  {
   "cell_type": "markdown",
   "metadata": {},
   "source": [
    "### Calculate the input and filter frequency responses"
   ]
  },
  {
   "cell_type": "code",
   "execution_count": null,
   "metadata": {},
   "outputs": [],
   "source": [
    "## Now let's calculate frequency responses of the original input\n",
    "mags, phases = get_dft_mag_phase(x_noisy, N)\n",
    "\n",
    "## ...  the filter\n",
    "mags_filter, phases_filter = get_dft_mag_phase(h_avg_pad, N)\n",
    "\n",
    "## ... and the filtered output that we calculated above\n",
    "mags_avg, phases_avg = get_dft_mag_phase(y_avg, N)\n",
    "\n",
    "## Plot with actual frequencies on the x-axis\n",
    "dft_freqs = get_dft_freqs_all(f_s, N)"
   ]
  },
  {
   "cell_type": "code",
   "execution_count": null,
   "metadata": {
    "scrolled": true
   },
   "outputs": [],
   "source": [
    "## plot frequency responses\n",
    "\n",
    "fig, fd = plt.subplots(figsize=(16, 4))\n",
    "fd.set(xlim=(-1,N/2), ylim=(-1, N))\n",
    "\n",
    "# DFT(input)\n",
    "fd.scatter(dft_freqs, mags, color='magenta', label='DFT(input)')\n",
    "\n",
    "# DFT(filter) * DFT(input)\n",
    "fd.scatter(dft_freqs, mags_filter*mags, color='blue', label='DFT(filter).DFT(input)')\n",
    "\n",
    "# DFT(filtered input)\n",
    "fd.scatter(dft_freqs, mags_avg, color='red', label='DFT(filter*input)')\n",
    "fd.set_xlabel('Frequency (Hz)')\n",
    "fd.set_ylabel('Magnitude')\n",
    "fd.set_title('Frequency response after applying 5-point weighted average filter')\n",
    "fd.legend()"
   ]
  },
  {
   "cell_type": "markdown",
   "metadata": {},
   "source": [
    "You should see that the results from multiplying the DFT magnitudes from the input and the filter (blue) is (more or less) the same as the DFT of applying the filter in th time domain via convolution (red)\n",
    "\n",
    "* Notice that there are some differences between the results from the time domain application of the filter (red) and the frequency domain multiplication (blue).  In particular there appears to be some leakage in the time-domain convolution case, possibly due to floating point errors."
   ]
  },
  {
   "cell_type": "markdown",
   "metadata": {},
   "source": [
    "### Exercise\n",
    "\n",
    "* Try changing the frequency of the second cosine component of our compound wave in the code below. \n",
    "    * Does the amount of attenuation of the high frequency component change as suggested by the DFT of the filter? \n",
    "    * e.g. try 26 Hz vs 19 Hz\n",
    "* What does this tell you about how well this low pass filter get's rid of high frequency noise?\n",
    "\n"
   ]
  },
  {
   "cell_type": "code",
   "execution_count": null,
   "metadata": {
    "scrolled": true
   },
   "outputs": [],
   "source": [
    "## Change the frequency of x2\n",
    "\n",
    "x1, time_steps = gen_sinusoid(frequency=4, phase=0, amplitude=1, sample_rate=f_s, seq_length=N, gen_function=np.cos)\n",
    "x2, time_steps = gen_sinusoid(frequency=19, phase=0, amplitude=1, sample_rate=f_s, seq_length=N, gen_function=np.cos)\n",
    "\n",
    "# add them up!\n",
    "x_noisy = x1 + x2\n",
    "\n",
    "## Now let's calculate frequency responses of the original input\n",
    "mags, phases = get_dft_mag_phase(x_noisy, N)\n",
    "\n",
    "## ...  the filter\n",
    "mags_filter, phases_filter = get_dft_mag_phase(h_avg_pad, N)\n",
    "\n",
    "## Plot with actual frequencies on the x-axis\n",
    "dft_freqs = get_dft_freqs_all(f_s, N)\n",
    "\n",
    "## plot frequency responses\n",
    "\n",
    "fig, fd = plt.subplots(figsize=(16, 4))\n",
    "\n",
    "fd.set(xlim=(-1,N/2), ylim=(-1, N))\n",
    "\n",
    "\n",
    "# DFT(input)\n",
    "fd.scatter(dft_freqs, mags, color='magenta', label='DFT(input)')\n",
    "\n",
    "# DFT(filter) * DFT(input)\n",
    "fd.scatter(dft_freqs, mags_filter*mags, color='blue', label='DFT(filter)*DFT(input)')\n",
    "\n",
    "fd.set_xlabel('Frequency (Hz)')\n",
    "fd.set_ylabel('Magnitude')\n",
    "fd.set_title('Frequency response after applying 5-point weighted average filter')\n",
    "fd.legend()"
   ]
  },
  {
   "cell_type": "markdown",
   "metadata": {},
   "source": [
    "### Notes"
   ]
  },
  {
   "cell_type": "code",
   "execution_count": null,
   "metadata": {},
   "outputs": [],
   "source": []
  },
  {
   "cell_type": "code",
   "execution_count": null,
   "metadata": {},
   "outputs": [],
   "source": []
  }
 ],
 "metadata": {
  "kernelspec": {
   "display_name": "Python 3",
   "language": "python",
   "name": "python3"
  },
  "language_info": {
   "codemirror_mode": {
    "name": "ipython",
    "version": 3
   },
   "file_extension": ".py",
   "mimetype": "text/x-python",
   "name": "python",
   "nbconvert_exporter": "python",
   "pygments_lexer": "ipython3",
   "version": "3.8.5"
  }
 },
 "nbformat": 4,
 "nbformat_minor": 4
}
